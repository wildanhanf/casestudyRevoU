{
  "nbformat": 4,
  "nbformat_minor": 0,
  "metadata": {
    "colab": {
      "provenance": []
    },
    "kernelspec": {
      "name": "python3",
      "display_name": "Python 3"
    },
    "language_info": {
      "name": "python"
    }
  },
  "cells": [
    {
      "cell_type": "markdown",
      "source": [
        "# Import Library"
      ],
      "metadata": {
        "id": "xXKSRp6p2xvI"
      }
    },
    {
      "cell_type": "code",
      "execution_count": 1,
      "metadata": {
        "id": "Vj4MY7UizrVY"
      },
      "outputs": [],
      "source": [
        "import pandas as pd\n",
        "import matplotlib.pyplot as plt"
      ]
    },
    {
      "cell_type": "markdown",
      "source": [
        "# Read (.csv) File from Google Drive\n",
        "\n",
        "\n"
      ],
      "metadata": {
        "id": "UsLtBHXi23D2"
      }
    },
    {
      "cell_type": "code",
      "source": [
        "from google.colab import drive \n",
        "drive.mount('/content/gdrive')\n",
        "\n",
        "df=pd.read_csv('gdrive/My Drive/games_sales.csv')"
      ],
      "metadata": {
        "colab": {
          "base_uri": "https://localhost:8080/"
        },
        "id": "n2Z3il4R0m9h",
        "outputId": "357234c0-8bf5-40a4-904a-12eb2ea8b255"
      },
      "execution_count": 2,
      "outputs": [
        {
          "output_type": "stream",
          "name": "stdout",
          "text": [
            "Mounted at /content/gdrive\n"
          ]
        }
      ]
    },
    {
      "cell_type": "markdown",
      "source": [
        "# Dataset games_sales.csv"
      ],
      "metadata": {
        "id": "xPSiEnmcbVh6"
      }
    },
    {
      "cell_type": "code",
      "source": [
        "print(df)"
      ],
      "metadata": {
        "colab": {
          "base_uri": "https://localhost:8080/"
        },
        "id": "77qisyC7bZ9i",
        "outputId": "a7de16f9-dcfc-4976-9569-24bf630b4b30"
      },
      "execution_count": 3,
      "outputs": [
        {
          "output_type": "stream",
          "name": "stdout",
          "text": [
            "                                     Name  Sales          Series    Release  \\\n",
            "0           PlayerUnknown's Battlegrounds   42.0             NaN  12/1/2017   \n",
            "1                               Minecraft   33.0       Minecraft  11/1/2011   \n",
            "2                              Diablo III   20.0          Diablo   5/1/2012   \n",
            "3                             Garry's Mod   20.0             NaN  11/1/2006   \n",
            "4                                Terraria   17.2             NaN   5/1/2011   \n",
            "..                                    ...    ...             ...        ...   \n",
            "172        Who Wants to Be a Millionaire?    1.0             NaN  11/1/1999   \n",
            "173  Wing Commander 3: Heart of the Tiger    1.0  Wing Commander  12/1/1994   \n",
            "174                            Zoo Tycoon    1.0      Zoo Tycoon  10/1/2001   \n",
            "175      StarCraft II: Heart of the Swarm    1.0       StarCraft   3/1/2013   \n",
            "176      StarCraft II: Legacy of the Void    1.0       StarCraft  11/1/2015   \n",
            "\n",
            "                       Genre               Developer  \\\n",
            "0              Battle royale            PUBG Studios   \n",
            "1          Sandbox, survival          Mojang Studios   \n",
            "2        Action role-playing  Blizzard Entertainment   \n",
            "3                    Sandbox       Facepunch Studios   \n",
            "4           Action-adventure                Re-Logic   \n",
            "..                       ...                     ...   \n",
            "172              Trivia game             Jellyvision   \n",
            "173  Space combat simulation          Origin Systems   \n",
            "174      Business simulation               Microsoft   \n",
            "175       Real-time strategy  Blizzard Entertainment   \n",
            "176       Real-time strategy  Blizzard Entertainment   \n",
            "\n",
            "                      Publisher  \n",
            "0                       Krafton  \n",
            "1                Mojang Studios  \n",
            "2        Blizzard Entertainment  \n",
            "3                         Valve  \n",
            "4                      Re-Logic  \n",
            "..                          ...  \n",
            "172  Disney Interactive Studios  \n",
            "173             Electronic Arts  \n",
            "174             Blue Fang Games  \n",
            "175      Blizzard Entertainment  \n",
            "176      Blizzard Entertainment  \n",
            "\n",
            "[177 rows x 7 columns]\n"
          ]
        }
      ]
    },
    {
      "cell_type": "markdown",
      "source": [
        "# Data Preprocessing\n",
        "Check for missing value and remove duplicate rows. If you look at the context, the \"Series\" column means whether the game has another sequel or not. If not, then it won't be a problem if the value is Null.\n"
      ],
      "metadata": {
        "id": "TVsLu7b92rJq"
      }
    },
    {
      "cell_type": "code",
      "source": [
        "df['Release'] = pd.to_datetime(df['Release'])\n",
        "df = df.drop_duplicates()\n",
        "df_missing_value = df.isna().sum()\n",
        "print(df.info())\n",
        "print(\"Missing Value: \\n\", df_missing_value)"
      ],
      "metadata": {
        "colab": {
          "base_uri": "https://localhost:8080/"
        },
        "id": "HTrknrbt2KHc",
        "outputId": "fb4d993d-4626-429c-a899-ea2b8759b4ba"
      },
      "execution_count": 13,
      "outputs": [
        {
          "output_type": "stream",
          "name": "stdout",
          "text": [
            "<class 'pandas.core.frame.DataFrame'>\n",
            "Int64Index: 175 entries, 0 to 174\n",
            "Data columns (total 7 columns):\n",
            " #   Column     Non-Null Count  Dtype         \n",
            "---  ------     --------------  -----         \n",
            " 0   Name       175 non-null    object        \n",
            " 1   Sales      175 non-null    float64       \n",
            " 2   Series     139 non-null    object        \n",
            " 3   Release    175 non-null    datetime64[ns]\n",
            " 4   Genre      175 non-null    object        \n",
            " 5   Developer  175 non-null    object        \n",
            " 6   Publisher  175 non-null    object        \n",
            "dtypes: datetime64[ns](1), float64(1), object(5)\n",
            "memory usage: 10.9+ KB\n",
            "None\n",
            "Missing Value: \n",
            " Name          0\n",
            "Sales         0\n",
            "Series       36\n",
            "Release       0\n",
            "Genre         0\n",
            "Developer     0\n",
            "Publisher     0\n",
            "dtype: int64\n"
          ]
        }
      ]
    },
    {
      "cell_type": "markdown",
      "source": [
        "# Finding oldest and newest game\n",
        "There are 2 ways that i can figure,\n",
        "1. Using .iloc and .argmin or .argmax\n",
        "2. Set the index on 'Release' column then sort"
      ],
      "metadata": {
        "id": "zPdLbRiD3RI9"
      }
    },
    {
      "cell_type": "code",
      "source": [
        "oldest_game = df.iloc[df['Release'].argmin()]\n",
        "newest_game = df.iloc[df['Release'].argmax()]\n",
        "df_sort = df.set_index('Release').sort_index()\n",
        "\n",
        "print(oldest_game)\n",
        "print(newest_game)\n",
        "print(df_sort)"
      ],
      "metadata": {
        "colab": {
          "base_uri": "https://localhost:8080/"
        },
        "id": "WS7idsEs3Jx3",
        "outputId": "bad4aea1-3c9a-4e40-e4e8-9ca16e3ebcbe"
      },
      "execution_count": 6,
      "outputs": [
        {
          "output_type": "stream",
          "name": "stdout",
          "text": [
            "Name                                       Hydlide\n",
            "Sales                                          1.0\n",
            "Series                                     Hydlide\n",
            "Release                        1984-12-01 00:00:00\n",
            "Genre                          Action role-playing\n",
            "Developer    Technology and Entertainment Software\n",
            "Publisher    Technology and Entertainment Software\n",
            "Name: 133, dtype: object\n",
            "Name                         Valheim\n",
            "Sales                            6.0\n",
            "Series                           NaN\n",
            "Release          2021-02-01 00:00:00\n",
            "Genre                       Survival\n",
            "Developer                  Iron Gate\n",
            "Publisher    Coffee Stain Publishing\n",
            "Name: 20, dtype: object\n",
            "                                              Name  Sales  \\\n",
            "Release                                                     \n",
            "1984-12-01                                 Hydlide    1.0   \n",
            "1985-06-01  Where in the World Is Carmen Sandiego?    4.0   \n",
            "1985-11-01                    International Karate    1.5   \n",
            "1988-01-01                                  Tetris    1.0   \n",
            "1988-08-01                            Last Ninja 2    5.5   \n",
            "...                                            ...    ...   \n",
            "2019-04-01                                 Mordhau    1.0   \n",
            "2020-08-01                               Fall Guys   10.0   \n",
            "2020-09-01                      Crusader Kings III    1.0   \n",
            "2020-12-01                          Cyberpunk 2077    4.5   \n",
            "2021-02-01                                 Valheim    6.0   \n",
            "\n",
            "                          Series                Genre  \\\n",
            "Release                                                 \n",
            "1984-12-01               Hydlide  Action role-playing   \n",
            "1985-06-01       Carmen Sandiego          Educational   \n",
            "1985-11-01  International Karate             Fighting   \n",
            "1988-01-01                Tetris               Puzzle   \n",
            "1988-08-01        The Last Ninja     Action-adventure   \n",
            "...                          ...                  ...   \n",
            "2019-04-01                   NaN               Action   \n",
            "2020-08-01                   NaN        Battle royale   \n",
            "2020-09-01        Crusader Kings       Grand strategy   \n",
            "2020-12-01                   NaN  Action role-playing   \n",
            "2021-02-01                   NaN             Survival   \n",
            "\n",
            "                                        Developer  \\\n",
            "Release                                             \n",
            "1984-12-01  Technology and Entertainment Software   \n",
            "1985-06-01                             Broderbund   \n",
            "1985-11-01                               System 3   \n",
            "1988-01-01                      Spectrum HoloByte   \n",
            "1988-08-01                               System 3   \n",
            "...                                           ...   \n",
            "2019-04-01                             Triternion   \n",
            "2020-08-01                             Mediatonic   \n",
            "2020-09-01             Paradox Development Studio   \n",
            "2020-12-01                         CD Projekt Red   \n",
            "2021-02-01                              Iron Gate   \n",
            "\n",
            "                                        Publisher  \n",
            "Release                                            \n",
            "1984-12-01  Technology and Entertainment Software  \n",
            "1985-06-01                             Broderbund  \n",
            "1985-11-01                                   Epyx  \n",
            "1988-01-01                      Spectrum HoloByte  \n",
            "1988-08-01                             Activision  \n",
            "...                                           ...  \n",
            "2019-04-01                             Triternion  \n",
            "2020-08-01                       Devolver Digital  \n",
            "2020-09-01                    Paradox Interactive  \n",
            "2020-12-01                             CD Projekt  \n",
            "2021-02-01                Coffee Stain Publishing  \n",
            "\n",
            "[175 rows x 6 columns]\n"
          ]
        }
      ]
    },
    {
      "cell_type": "markdown",
      "source": [
        "# Find publisher who published most of the games?\n"
      ],
      "metadata": {
        "id": "iiIlUoBe40S5"
      }
    },
    {
      "cell_type": "code",
      "source": [
        "publisher_count = df['Publisher'].value_counts()\n",
        "print(publisher_count.head(10))\n",
        "publisher_count.head(10).sort_values().plot(kind='barh', figsize=(16,8))\n",
        "plt.title(\"Publisher who published the most games\")\n",
        "plt.ylabel(\"Publisher\")\n",
        "plt.xlabel(\"Games published\")\n",
        "plt.show()"
      ],
      "metadata": {
        "colab": {
          "base_uri": "https://localhost:8080/",
          "height": 714
        },
        "id": "2g3CoHVe5ECN",
        "outputId": "f88ddce9-81fa-4917-fb59-154cc561da0c"
      },
      "execution_count": 8,
      "outputs": [
        {
          "output_type": "stream",
          "name": "stdout",
          "text": [
            "Electronic Arts            19\n",
            "Blizzard Entertainment      8\n",
            "Paradox Interactive         7\n",
            "Activision                  6\n",
            "GT Interactive              5\n",
            "Gathering of Developers     4\n",
            "Microsoft                   4\n",
            "Capcom                      4\n",
            "Virgin Interactive          3\n",
            "CD Projekt                  3\n",
            "Name: Publisher, dtype: int64\n"
          ]
        },
        {
          "output_type": "display_data",
          "data": {
            "text/plain": [
              "<Figure size 1152x576 with 1 Axes>"
            ],
            "image/png": "[encoded data removed]"
          },
          "metadata": {
            "needs_background": "light"
          }
        }
      ]
    },
    {
      "cell_type": "markdown",
      "source": [
        "# Find developer who developed most of the games "
      ],
      "metadata": {
        "id": "7S-hV8Zh5v0c"
      }
    },
    {
      "cell_type": "code",
      "source": [
        "developer_count = df['Developer'].value_counts()\n",
        "print(developer_count.head(10))\n",
        "developer_count.head(5).sort_values().plot(kind='barh', figsize=(16,8))\n",
        "plt.title(\"Developer who developed the most games\")\n",
        "plt.ylabel(\"Developer\")\n",
        "plt.xlabel(\"Games deveoped\")\n",
        "plt.show()"
      ],
      "metadata": {
        "colab": {
          "base_uri": "https://localhost:8080/",
          "height": 714
        },
        "id": "IMjkEyrz5zXh",
        "outputId": "dbdf64e9-c3ea-484c-ccd9-c73472fafa57"
      },
      "execution_count": 10,
      "outputs": [
        {
          "output_type": "stream",
          "name": "stdout",
          "text": [
            "Blizzard Entertainment        8\n",
            "Maxis                         6\n",
            "Paradox Development Studio    5\n",
            "id Software                   4\n",
            "Westwood Studios              4\n",
            "Capcom                        4\n",
            "Ensemble Studios              4\n",
            "CD Projekt Red                4\n",
            "Valve                         4\n",
            "Illusion Softworks            3\n",
            "Name: Developer, dtype: int64\n"
          ]
        },
        {
          "output_type": "display_data",
          "data": {
            "text/plain": [
              "<Figure size 1152x576 with 1 Axes>"
            ],
            "image/png": "[encoded data removed]"
          },
          "metadata": {
            "needs_background": "light"
          }
        }
      ]
    },
    {
      "cell_type": "markdown",
      "source": [
        "# Find series that had the most sales ?\n"
      ],
      "metadata": {
        "id": "atLh-82J6E-5"
      }
    },
    {
      "cell_type": "code",
      "source": [
        "series_sales = df.groupby('Series')['Sales'].sum().reset_index()\n",
        "print(series_sales.sort_values(['Sales'], ascending=False))\n",
        "series_sales.sort_values(['Sales'], ascending=False).head().plot(kind='barh', y='Sales', x='Series', figsize=(16,8))\n",
        "plt.title(\"Series with the most sales\")\n",
        "plt.xlabel(\"Sales\")\n",
        "plt.show()"
      ],
      "metadata": {
        "colab": {
          "base_uri": "https://localhost:8080/",
          "height": 768
        },
        "id": "_9l79gyr6HpM",
        "outputId": "9a8eca7a-4fde-488f-91d4-c2e356a3f02f"
      },
      "execution_count": 11,
      "outputs": [
        {
          "output_type": "stream",
          "name": "stdout",
          "text": [
            "                        Series  Sales\n",
            "47                   Minecraft   33.0\n",
            "22                      Diablo   26.0\n",
            "75                    The Sims   24.0\n",
            "36                   Half-Life   21.0\n",
            "85                    Warcraft   19.0\n",
            "..                         ...    ...\n",
            "60                     RoboCop    1.0\n",
            "46  Microsoft Flight Simulator    1.0\n",
            "58             Railroad Tycoon    1.0\n",
            "56                 Psychonauts    1.0\n",
            "90                        Zork    1.0\n",
            "\n",
            "[91 rows x 2 columns]\n"
          ]
        },
        {
          "output_type": "display_data",
          "data": {
            "text/plain": [
              "<Figure size 1152x576 with 1 Axes>"
            ],
            "image/png": "[encoded data removed]"
          },
          "metadata": {
            "needs_background": "light"
          }
        }
      ]
    },
    {
      "cell_type": "markdown",
      "source": [
        "# Series that had the most games"
      ],
      "metadata": {
        "id": "2drJlf1Xa6so"
      }
    },
    {
      "cell_type": "code",
      "source": [
        "series_count =  df['Series'].value_counts()\n",
        "print(series_count)\n",
        "series_count.head().sort_values().plot(kind='barh', figsize=(16,8))\n",
        "plt.title(\"Series with the most games\")\n",
        "plt.xlabel(\"Num of Games\")\n",
        "plt.ylabel(\"Series\")\n",
        "plt.show()"
      ],
      "metadata": {
        "colab": {
          "base_uri": "https://localhost:8080/",
          "height": 732
        },
        "id": "SI7pYnNCa_Os",
        "outputId": "c6029472-8e9e-4bc9-d3c0-8c4513449756"
      },
      "execution_count": 12,
      "outputs": [
        {
          "output_type": "stream",
          "name": "stdout",
          "text": [
            "Command & Conquer        5\n",
            "StarCraft                4\n",
            "Civilization             4\n",
            "Age of Empires           4\n",
            "Warcraft                 3\n",
            "                        ..\n",
            "Alice                    1\n",
            "Ark: Survival Evolved    1\n",
            "BioShock                 1\n",
            "Commandos                1\n",
            "Zoo Tycoon               1\n",
            "Name: Series, Length: 91, dtype: int64\n"
          ]
        },
        {
          "output_type": "display_data",
          "data": {
            "text/plain": [
              "<Figure size 1152x576 with 1 Axes>"
            ],
            "image/png": "[encoded data removed]"
          },
          "metadata": {
            "needs_background": "light"
          }
        }
      ]
    }
  ]
}